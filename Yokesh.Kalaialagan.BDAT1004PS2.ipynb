{
 "cells": [
  {
   "cell_type": "code",
   "execution_count": 3,
   "id": "4df378ec",
   "metadata": {},
   "outputs": [
    {
     "name": "stdout",
     "output_type": "stream",
     "text": [
      "6\n"
     ]
    }
   ],
   "source": [
    "#Question 1: What value is displayed when the last expression (a) is evaluated? Explain your answer by indicating what happens in every executed statement.\n",
    "\n",
    "a = 0            \n",
    "def b():         # Modying the globl variable inside a funcion. \n",
    " global a        # Declaring variable 'a' as global, so that only we can modify 'a' value.\n",
    " a = c(a)\n",
    "def c(a):\n",
    " return a + 2\n",
    "#After importing the module into the interpreter, you execute:\n",
    "b()\n",
    "b()\n",
    "b()\n",
    "print(a) \n",
    "\n",
    "#Firstly, 'a' is initialized as 0\n",
    "#Secondly, In Function 'b()', we are trying to modify the value of 'a' so we declared 'a' value as global variable.\n",
    "# 'a = c(a)' another function is called to change the value of 'a'\n",
    "#Function 'c()' will return value as 2 will as value of 'a'. \n",
    "#When function 'b()' is called three times, the value of 'a' will be 6 by adding 2 each time.\n"
   ]
  },
  {
   "cell_type": "code",
   "execution_count": 38,
   "id": "e80821f7",
   "metadata": {},
   "outputs": [
    {
     "name": "stdout",
     "output_type": "stream",
     "text": [
      "123\n"
     ]
    }
   ],
   "source": [
    "#Question 2: Function fileLength(), given to you, takes the name of a file as input and returns the length of the file:\n",
    "#Modify function fileLength() so that a friendly message is printed instead:\n",
    "\n",
    "def fileLength(file_name):\n",
    "    try:\n",
    "        with open(file_name,'r') as f:\n",
    "            print(len(f.read()))\n",
    "    except FileNotFoundError:\n",
    "        print(f\"File {file_name} not found\");\n",
    "\n",
    "fileLength('Filelength.txt')\n"
   ]
  },
  {
   "cell_type": "code",
   "execution_count": 37,
   "id": "c8211dee",
   "metadata": {},
   "outputs": [
    {
     "name": "stdout",
     "output_type": "stream",
     "text": [
      "File  testfile.py not found\n"
     ]
    }
   ],
   "source": [
    "#Question 2 b\n",
    "fileLength('testfile.py')"
   ]
  },
  {
   "cell_type": "code",
   "execution_count": 45,
   "id": "37cee991",
   "metadata": {},
   "outputs": [
    {
     "name": "stdout",
     "output_type": "stream",
     "text": [
      "['doll', 'firetruck', 'kitten']\n"
     ]
    }
   ],
   "source": [
    "#Question 3 : \n",
    "\n",
    "class Marsupial:\n",
    "    def __init__(self):\n",
    "        self.items = []\n",
    "    \n",
    "    def put_in_pouch(self, item):\n",
    "        self.items.append(item)\n",
    "    \n",
    "    def pouch_contents(self):\n",
    "        print(self.items)    \n",
    " \n",
    "    \n",
    "m = Marsupial()\n",
    "m.put_in_pouch('doll')\n",
    "m.put_in_pouch('firetruck')\n",
    "m.put_in_pouch('kitten')\n",
    "m.pouch_contents()"
   ]
  },
  {
   "cell_type": "code",
   "execution_count": 46,
   "id": "1f44f72a",
   "metadata": {},
   "outputs": [
    {
     "name": "stdout",
     "output_type": "stream",
     "text": [
      "I am a Kangaroo located at coordinates (0,0)\n",
      "['doll', 'firetruck', 'kitten']\n",
      "I am a Kangaroo located at coordinates (3,0)\n"
     ]
    }
   ],
   "source": [
    "#Question 3 part b :\n",
    "class Marsupial:\n",
    "    def __init__(self):\n",
    "        self.items = []\n",
    "    \n",
    "    def put_in_pouch(self, item):\n",
    "        self.items.append(item)\n",
    "    \n",
    "    def pouch_contents(self):\n",
    "        print(self.items)\n",
    "    \n",
    "class Kangaroo(Marsupial):\n",
    "    def __init__(self, x, y):\n",
    "        super().__init__()\n",
    "        self.x = x\n",
    "        self.y = y\n",
    "    \n",
    "    def jump(self, dx, dy):\n",
    "        self.x += dx\n",
    "        self.y += dy\n",
    "    \n",
    "    def __str__(self):\n",
    "        return f\"I am a Kangaroo located at coordinates ({self.x},{self.y})\"\n",
    "\n",
    "k = Kangaroo(0,0)\n",
    "print(k)\n",
    "k.put_in_pouch('doll')\n",
    "k.put_in_pouch('firetruck')\n",
    "k.put_in_pouch('kitten')\n",
    "k.pouch_contents()\n",
    "k.jump(1,0)\n",
    "k.jump(1,0)\n",
    "k.jump(1,0)\n",
    "print(k)"
   ]
  },
  {
   "cell_type": "code",
   "execution_count": 64,
   "id": "b852f762",
   "metadata": {},
   "outputs": [],
   "source": [
    "#Question 4\n",
    "def collatz(temp):\n",
    "    print(temp)\n",
    "    if temp == 1:\n",
    "        return\n",
    "    elif temp % 2 == 0:\n",
    "        collatz(temp // 2)\n",
    "    else:\n",
    "        collatz(3 * temp + 1)\n",
    "        "
   ]
  },
  {
   "cell_type": "code",
   "execution_count": 65,
   "id": "3809720f",
   "metadata": {},
   "outputs": [
    {
     "name": "stdout",
     "output_type": "stream",
     "text": [
      "1\n"
     ]
    }
   ],
   "source": [
    "collatz(1) "
   ]
  },
  {
   "cell_type": "code",
   "execution_count": 63,
   "id": "20726771",
   "metadata": {},
   "outputs": [
    {
     "name": "stdout",
     "output_type": "stream",
     "text": [
      "10\n",
      "5\n",
      "16\n",
      "8\n",
      "4\n",
      "2\n",
      "1\n"
     ]
    }
   ],
   "source": [
    "collatz(10)"
   ]
  },
  {
   "cell_type": "code",
   "execution_count": 67,
   "id": "e59e509e",
   "metadata": {},
   "outputs": [
    {
     "name": "stdout",
     "output_type": "stream",
     "text": [
      "0\n",
      "1\n",
      "11\n",
      "1001\n"
     ]
    }
   ],
   "source": [
    "#Question 5\n",
    "def binary(n):\n",
    "    if n == 0:\n",
    "        return '0'\n",
    "    elif n == 1:\n",
    "        return '1'\n",
    "    else:\n",
    "        return binary(n // 2) + str(n % 2)\n",
    "    \n",
    "print(binary(0))    #output is 0\n",
    "print(binary(1))    #output is 1\n",
    "print(binary(3))    #output is 11\n",
    "print(binary(9))    #output is 1001"
   ]
  },
  {
   "cell_type": "code",
   "execution_count": 68,
   "id": "382460d7",
   "metadata": {},
   "outputs": [
    {
     "name": "stdout",
     "output_type": "stream",
     "text": [
      "W3C Mission\n",
      " Principles\n"
     ]
    }
   ],
   "source": [
    "#Question 6\n",
    "\n",
    "from html.parser import HTMLParser\n",
    "\n",
    "class HeadingParser(HTMLParser):\n",
    "    def __init__(self):\n",
    "        HTMLParser.__init__(self)\n",
    "        self.header_stack = []\n",
    "        \n",
    "    def handle_starttag(self, tag, attrs):\n",
    "        if tag in ['h1', 'h2']:\n",
    "            self.header_stack.append(tag)\n",
    "            \n",
    "    def handle_data(self, data):\n",
    "        if self.header_stack:\n",
    "            tag = self.header_stack[-1]\n",
    "            if tag == 'h1':\n",
    "                print(data)\n",
    "            elif tag == 'h2':\n",
    "                print(\" \" + data)\n",
    "                \n",
    "    def handle_endtag(self, tag):\n",
    "        if tag in ['h1', 'h2']:\n",
    "            self.header_stack.pop()\n",
    "            \n",
    "#usage:\n",
    "with open('w3c.html') as infile:\n",
    "    content = infile.read()\n",
    "    hp = HeadingParser()\n",
    "    hp.feed(content)\n",
    "\n",
    "    "
   ]
  },
  {
   "cell_type": "code",
   "execution_count": 72,
   "id": "145d69bd",
   "metadata": {},
   "outputs": [
    {
     "name": "stdout",
     "output_type": "stream",
     "text": [
      "http://reed.cs.depaul.edu/lperkovic/test1.html\n",
      " http://reed.cs.depaul.edu/lperkovic/test2.html\n",
      "  http://reed.cs.depaul.edu/lperkovic/test4.html\n",
      " http://reed.cs.depaul.edu/lperkovic/test3.html\n",
      "  http://reed.cs.depaul.edu/lperkovic/test4.html\n"
     ]
    }
   ],
   "source": [
    "# Question 7\n",
    "import urllib.request\n",
    "from html.parser import HTMLParser\n",
    "\n",
    "class MyParser(HTMLParser):\n",
    "    def handle_starttag(self, tag, attrs):\n",
    "        if tag=='a':\n",
    "            for attr in attrs:\n",
    "                if attr[0]=='href':\n",
    "                    if attr[1][-4:]=='html':\n",
    "                        if attr[1][:4]=='http':\n",
    "                            webdir(attr[1],1,1)\n",
    "                        elif attr[1][:5]=='test3':\n",
    "                            url='http://reed.cs.depaul.edu/lperkovic/'+attr[1]\n",
    "                            webdir(url,0,1)\n",
    "                        else:\n",
    "                            url='http://reed.cs.depaul.edu/lperkovic/'+attr[1]\n",
    "                            webdir(url,0,2)\n",
    "\n",
    "def webdir(url,depth,indent):\n",
    "    if indent==0:\n",
    "        print(url)\n",
    "    elif indent==1:\n",
    "        print(\" \"+url)\n",
    "    elif indent==2:\n",
    "        print(\"  \"+url)\n",
    "    request = urllib.request.urlopen(url)\n",
    "    html=request.read().decode(\"utf8\")\n",
    "    parser =MyParser()\n",
    "    parser.feed(html)\n",
    "webdir('http://reed.cs.depaul.edu/lperkovic/test1.html',2,0)"
   ]
  },
  {
   "cell_type": "code",
   "execution_count": 74,
   "id": "4ab3d11f",
   "metadata": {},
   "outputs": [],
   "source": [
    "#Question 8a  All the temperature data.\n",
    "\n",
    "#Ans                                   select * from temperature;\n",
    "\n",
    "#Question 8b All the cities, but without repetition\n",
    "\n",
    "#Ans                                  select distinct City from temperature;\n",
    "\n",
    "#Question 8c All the records for India\n",
    "\n",
    "#Ans                                  select * from temperature where Country='India';\n",
    "\n",
    "#Question 8d All the Fall records\n",
    "\n",
    "#Ans                                  select * from temperature where season ='Fall';\n",
    "\n",
    "#Question 8e The city, country, and season for which the average rainfall is between 200 and 400 millimeters\n",
    "\n",
    "#Ans                                  select city, country, season from temperature where Rainfall between 200 and 400;\n",
    "\n",
    "#Question 8f The city and country for which the average Fall temperature is above 20 degrees, in increasing temperature order\n",
    "\n",
    "#Ans                                  select city,country from temperature where temperature>20 order by temperature asc;\n",
    "\n",
    "#Question 8g The total annual rainfall for Cairo.\n",
    "\n",
    "#Ans                                 select sum(Rainfall) as \"annual rainfall\" from temperature where city='Cairo'; \n",
    "\n",
    "#Question 8h The total rainfall for each season.\n",
    "\n",
    "#Ans                                 select season,sum(Rainfall) as \"annual rainfall\" from temperature group by season; \n",
    "\n"
   ]
  },
  {
   "cell_type": "code",
   "execution_count": 97,
   "id": "bc58994e",
   "metadata": {},
   "outputs": [
    {
     "name": "stdout",
     "output_type": "stream",
     "text": [
      "['THE', 'QUICK', 'BROWN', 'FOX', 'JUMPS', 'OVER', 'THE', 'LAZY', 'DOG']\n",
      "['the', 'quick', 'brown', 'fox', 'jumps', 'over', 'the', 'lazy', 'dog']\n"
     ]
    }
   ],
   "source": [
    "#Question 9a\n",
    "\n",
    "words = ['The', 'quick', 'brown', 'fox', 'jumps', 'over', 'the', 'lazy', 'dog']\n",
    "words_upper = list(map(lambda word: word.upper(), words))\n",
    "print(words_upper)\n",
    "\n",
    "#Question 9b\n",
    "\n",
    "words_lower = list(map(lambda word: word.lower(), words))\n",
    "print(words_lower)\n"
   ]
  },
  {
   "cell_type": "code",
   "execution_count": 98,
   "id": "b02e181c",
   "metadata": {},
   "outputs": [
    {
     "name": "stdout",
     "output_type": "stream",
     "text": [
      "[3, 5, 5, 3, 5, 4, 3, 4, 3]\n"
     ]
    }
   ],
   "source": [
    "#Question 9c\n",
    "\n",
    "words_length = [len(word) for word in words]\n",
    "print(words_length)"
   ]
  },
  {
   "cell_type": "code",
   "execution_count": 96,
   "id": "2cd128f7",
   "metadata": {},
   "outputs": [
    {
     "name": "stdout",
     "output_type": "stream",
     "text": [
      "[['THE', 'the', 3], ['QUICK', 'quick', 5], ['BROWN', 'brown', 5], ['FOX', 'fox', 3], ['JUMPS', 'jumps', 5], ['OVER', 'over', 4], ['THE', 'the', 3], ['LAZY', 'lazy', 4], ['DOG', 'dog', 3]]\n"
     ]
    }
   ],
   "source": [
    "\n",
    "#Question 9d\n",
    "\n",
    "word_info = [[word.upper(), word.lower(), len(word)] for word in words]\n",
    "print(word_info)"
   ]
  },
  {
   "cell_type": "code",
   "execution_count": 94,
   "id": "bc78add7",
   "metadata": {},
   "outputs": [
    {
     "name": "stdout",
     "output_type": "stream",
     "text": [
      "['quick', 'brown', 'jumps', 'over', 'lazy']\n"
     ]
    }
   ],
   "source": [
    "\n",
    "#Question 9e\n",
    "\n",
    "words_length = [word.lower() for word in words if len(word) >= 4]\n",
    "print(words_length)"
   ]
  }
 ],
 "metadata": {
  "kernelspec": {
   "display_name": "Python 3 (ipykernel)",
   "language": "python",
   "name": "python3"
  },
  "language_info": {
   "codemirror_mode": {
    "name": "ipython",
    "version": 3
   },
   "file_extension": ".py",
   "mimetype": "text/x-python",
   "name": "python",
   "nbconvert_exporter": "python",
   "pygments_lexer": "ipython3",
   "version": "3.9.13"
  }
 },
 "nbformat": 4,
 "nbformat_minor": 5
}
